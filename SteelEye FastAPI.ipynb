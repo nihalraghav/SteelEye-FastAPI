{
 "cells": [
  {
   "cell_type": "code",
   "execution_count": 1,
   "id": "41769314",
   "metadata": {},
   "outputs": [
    {
     "name": "stdout",
     "output_type": "stream",
     "text": [
      "Requirement already satisfied: fastapi in c:\\users\\91807\\anaconda3\\lib\\site-packages (0.96.0)\n",
      "Requirement already satisfied: uvicorn in c:\\users\\91807\\anaconda3\\lib\\site-packages (0.22.0)\n",
      "Requirement already satisfied: pydantic in c:\\users\\91807\\anaconda3\\lib\\site-packages (1.10.8)\n",
      "Requirement already satisfied: starlette<0.28.0,>=0.27.0 in c:\\users\\91807\\anaconda3\\lib\\site-packages (from fastapi) (0.27.0)\n",
      "Requirement already satisfied: click>=7.0 in c:\\users\\91807\\anaconda3\\lib\\site-packages (from uvicorn) (8.0.4)\n",
      "Requirement already satisfied: h11>=0.8 in c:\\users\\91807\\anaconda3\\lib\\site-packages (from uvicorn) (0.14.0)\n",
      "Requirement already satisfied: typing-extensions>=4.2.0 in c:\\users\\91807\\anaconda3\\lib\\site-packages (from pydantic) (4.6.3)\n",
      "Requirement already satisfied: colorama in c:\\users\\91807\\anaconda3\\lib\\site-packages (from click>=7.0->uvicorn) (0.4.4)\n",
      "Requirement already satisfied: anyio<5,>=3.4.0 in c:\\users\\91807\\anaconda3\\lib\\site-packages (from starlette<0.28.0,>=0.27.0->fastapi) (3.5.0)\n",
      "Requirement already satisfied: idna>=2.8 in c:\\users\\91807\\anaconda3\\lib\\site-packages (from anyio<5,>=3.4.0->starlette<0.28.0,>=0.27.0->fastapi) (3.3)\n",
      "Requirement already satisfied: sniffio>=1.1 in c:\\users\\91807\\anaconda3\\lib\\site-packages (from anyio<5,>=3.4.0->starlette<0.28.0,>=0.27.0->fastapi) (1.2.0)\n"
     ]
    }
   ],
   "source": [
    "!pip install fastapi uvicorn pydantic"
   ]
  },
  {
   "cell_type": "code",
   "execution_count": 2,
   "id": "79c3c1c4",
   "metadata": {},
   "outputs": [],
   "source": [
    "from fastapi import FastAPI, Query, HTTPException\n",
    "import datetime as dt\n",
    "from typing import Optional, List\n",
    "from pydantic import BaseModel, Field"
   ]
  },
  {
   "cell_type": "code",
   "execution_count": 3,
   "id": "32ad22e3",
   "metadata": {},
   "outputs": [],
   "source": [
    "app = FastAPI()\n",
    "trades_db = []"
   ]
  },
  {
   "cell_type": "code",
   "execution_count": 4,
   "id": "afeef8b7",
   "metadata": {},
   "outputs": [],
   "source": [
    "class TradeDetails(BaseModel):\n",
    "    buySellIndicator: str = Field(description=\"A value of BUY for buys, SELL for sells.\")\n",
    "    price: float = Field(description=\"The price of the Trade.\")\n",
    "    quantity: int = Field(description=\"The amount of units traded.\")\n",
    "\n",
    "class Trade(BaseModel):\n",
    "    asset_class: Optional[str] = Field(alias=\"assetClass\", default=None, description=\"The asset class of the instrum\")\n",
    "    counterparty: Optional[str] = Field(default=None, description=\"The counterparty the trade was executed with. May\")\n",
    "    instrument_id: str = Field(alias=\"instrumentId\", description=\"The ISIN/ID of the instrument traded. E.g. TSLA, AA\")\n",
    "    instrument_name: str = Field(alias=\"instrumentName\", description=\"The name of the instrument traded.\")\n",
    "    trade_date_time: dt.datetime = Field(alias=\"tradeDateTime\", description=\"The date-time the Trade was executed\")\n",
    "    trade_details: TradeDetails = Field(alias=\"tradeDetails\", description=\"The details of the trade, i.e. price, qua\")\n",
    "    trade_id: str = Field(alias=\"tradeId\", default=None, description=\"The unique ID of the trade\")\n",
    "    trader: str = Field(description=\"The name of the Trader\")"
   ]
  },
  {
   "cell_type": "code",
   "execution_count": 5,
   "id": "a0acda9a",
   "metadata": {},
   "outputs": [],
   "source": [
    "@app.get(\"/trades\", response_model=List[Trade])\n",
    "async def get_trades(\n",
    "        search: Optional[str] = Query(None, description=\"Search term to filter trades\"),\n",
    "        asset_class: Optional[str] = Query(None, description=\"Filter by asset class\"),\n",
    "        start: Optional[dt.datetime] = Query(None, description=\"Filter by minimum trade date\"),\n",
    "        end: Optional[dt.datetime] = Query(None, description=\"Filter by maximum trade date\"),\n",
    "        min_price: Optional[float] = Query(None, description=\"Filter by minimum trade price\"),\n",
    "        max_price: Optional[float] = Query(None, description=\"Filter by maximum trade price\"),\n",
    "        trade_type: Optional[str] = Query(None, description=\"Filter by trade type (BUY or SELL)\")\n",
    "):\n",
    "    filtered_trades = trades_db\n",
    "\n",
    "    # Search filter\n",
    "    if search:\n",
    "        filtered_trades = [trade for trade in filtered_trades if search.lower() in str(trade).lower()]\n",
    "\n",
    "    # Additional filters\n",
    "    if asset_class:\n",
    "        filtered_trades = [trade for trade in filtered_trades if trade.asset_class == asset_class]\n",
    "    if start:\n",
    "        filtered_trades = [trade for trade in filtered_trades if trade.trade_date_time >= start]\n",
    "    if end:\n",
    "        filtered_trades = [trade for trade in filtered_trades if trade.trade_date_time <= end]\n",
    "    if min_price:\n",
    "        filtered_trades = [trade for trade in filtered_trades if trade.trade_details.price >= min_price]\n",
    "    if max_price:\n",
    "        filtered_trades = [trade for trade in filtered_trades if trade.trade_details.price <= max_price]\n",
    "    if trade_type:\n",
    "        filtered_trades = [trade for trade in filtered_trades if trade.trade_details.buySellIndicator == trade_type]\n",
    "\n",
    "    return filtered_trades"
   ]
  },
  {
   "cell_type": "code",
   "execution_count": 6,
   "id": "6e8da011",
   "metadata": {},
   "outputs": [],
   "source": [
    "@app.get(\"/trades/{trade_id}\", response_model=Trade)\n",
    "async def get_trade_by_id(trade_id: str):\n",
    "    trade = next((trade for trade in trades_db if trade.trade_id == trade_id), None)\n",
    "    if trade is None:\n",
    "        raise HTTPException(status_code=404, detail=\"Trade not found\")\n",
    "    return trade"
   ]
  },
  {
   "cell_type": "code",
   "execution_count": null,
   "id": "fe176a00",
   "metadata": {},
   "outputs": [
    {
     "name": "stderr",
     "output_type": "stream",
     "text": [
      "INFO:     Started server process [17020]\n",
      "INFO:     Waiting for application startup.\n",
      "INFO:     Application startup complete.\n",
      "INFO:     Uvicorn running on http://localhost:8000 (Press CTRL+C to quit)\n"
     ]
    },
    {
     "name": "stdout",
     "output_type": "stream",
     "text": [
      "INFO:     ::1:56637 - \"GET / HTTP/1.1\" 404 Not Found\n",
      "INFO:     ::1:56638 - \"GET /docs HTTP/1.1\" 200 OK\n",
      "INFO:     ::1:56638 - \"GET /openapi.json HTTP/1.1\" 200 OK\n"
     ]
    }
   ],
   "source": [
    "import nest_asyncio\n",
    "nest_asyncio.apply()\n",
    "from uvicorn import run\n",
    "\n",
    "run(app, host=\"localhost\", port=8000)"
   ]
  },
  {
   "cell_type": "code",
   "execution_count": null,
   "id": "6174b9f4",
   "metadata": {},
   "outputs": [],
   "source": []
  }
 ],
 "metadata": {
  "kernelspec": {
   "display_name": "myenv",
   "language": "python",
   "name": "myenv"
  },
  "language_info": {
   "codemirror_mode": {
    "name": "ipython",
    "version": 3
   },
   "file_extension": ".py",
   "mimetype": "text/x-python",
   "name": "python",
   "nbconvert_exporter": "python",
   "pygments_lexer": "ipython3",
   "version": "3.11.0"
  }
 },
 "nbformat": 4,
 "nbformat_minor": 5
}
